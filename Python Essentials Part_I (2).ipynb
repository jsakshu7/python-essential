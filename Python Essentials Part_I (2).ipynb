{
 "cells": [
  {
   "cell_type": "markdown",
   "id": "248aff64-cedc-470b-a96f-0037504efb48",
   "metadata": {
    "id": "5573a58b"
   },
   "source": [
    "# What is Jupyter  Notebook\n",
    "* The Jupyter Notebook is an open-source web application that allows data scientists to create and share documents that           integrate live code, equations, computational output, visualizations, and other multimedia resources,\n",
    "\n",
    "* Uses include data cleaning and transformation, numerical simulation, statistical modeling, data visualization, machine         learning, and much more.\n"
   ]
  },
  {
   "cell_type": "code",
   "execution_count": 2,
   "id": "3b4317ca-3eec-4ee0-a3ac-a90615f0bb39",
   "metadata": {},
   "outputs": [
    {
     "data": {
      "text/plain": [
       "'C:\\\\Users\\\\Lenovo\\\\akshatha\\\\PYTHON ESSE'"
      ]
     },
     "execution_count": 2,
     "metadata": {},
     "output_type": "execute_result"
    }
   ],
   "source": [
    "pwd"
   ]
  },
  {
   "cell_type": "markdown",
   "id": "1c454286",
   "metadata": {
    "id": "1c454286"
   },
   "source": [
    "## Tutorial\n",
    "- Interactive\n",
    "- Results/outputs are stored so it is easy to review\n",
    "- Friendly for documentation\n",
    "- No limitation from performance\n",
    "- helpful shortcuts\n",
    "- Industry standard for all data science, ML, AI projects.\n",
    "\n",
    "<p> Extension of jupyter file is ipynb (i python notebook, previous name of Jupyter) </p>\n",
    "\n"
   ]
  },
  {
   "cell_type": "markdown",
   "id": "8d68548a-8892-4010-9b24-7c3098bd35af",
   "metadata": {},
   "source": [
    "## Cell Types"
   ]
  },
  {
   "cell_type": "code",
   "execution_count": null,
   "id": "e06b5e43-0591-42d4-95f5-2efda7a04cdd",
   "metadata": {},
   "outputs": [],
   "source": [
    "# A Code cell is the default cell type in Jupyter\n",
    "40 + 5 - 16"
   ]
  },
  {
   "cell_type": "raw",
   "id": "09ddcdc0-0a9f-4b25-a58e-2cc3b6f83478",
   "metadata": {},
   "source": [
    "Any execution of code and performing operations must take place in a code cell."
   ]
  },
  {
   "cell_type": "markdown",
   "id": "ee8239e8",
   "metadata": {
    "id": "ee8239e8"
   },
   "source": [
    "## Markdown\n",
    "Text may be styled within a markdown cell. \n",
    "**This is handy for**\n",
    "### Section Headings \n",
    "or\n",
    "#### Titles\n",
    "_This allows easy viewing of your project in an organized fashion._"
   ]
  },
  {
   "cell_type": "raw",
   "id": "291f7652",
   "metadata": {
    "id": "291f7652"
   },
   "source": [
    "The third cell type Raw cannot perform executive tasks nor has any styling options. However, it is preferred for plain text documentation and any explanation of code or analytics, particularly if there are passages or paragraphs."
   ]
  },
  {
   "cell_type": "markdown",
   "id": "e6babead",
   "metadata": {
    "id": "e6babead",
    "jp-MarkdownHeadingCollapsed": true
   },
   "source": [
    "# Short Cuts\n",
    "\n",
    "[shift] + [enter] : run a cell\n",
    "\n",
    "Command mode:\n",
    "a : insert cell above\n",
    "\n",
    "b : insert cell below\n",
    "\n",
    "dd : delete a cell\n",
    "\n",
    "z : undo a delete cell\n",
    "\n",
    "r : convert cell to raw cell\n",
    "\n",
    "m : convert cell to Markdown cell\n",
    "\n",
    "y : convert cell to code cell\n",
    "\n",
    "c: copy a cell\n",
    "\n",
    "v : paste a cell\n",
    "\n",
    "x : cut a cell\n",
    "\n",
    "o : toggle output\n",
    "\n",
    "## Edit Mode:\n",
    "\n",
    "Ctrl + C : copy a text\n",
    "\n",
    "Ctrl + V : paste\n",
    "\n",
    "Ctrl + X : cut\n",
    "\n",
    "Ctrl + Z : undo"
   ]
  },
  {
   "cell_type": "markdown",
   "id": "cd840a4f",
   "metadata": {
    "id": "cd840a4f"
   },
   "source": [
    "# Keywords\n",
    "* Keywords are reserved words in Python with designated meanings.\n",
    "* These cannot be used as identifiers to name objects."
   ]
  },
  {
   "cell_type": "code",
   "execution_count": null,
   "id": "0ab1d4b0",
   "metadata": {
    "colab": {
     "base_uri": "https://localhost:8080/"
    },
    "executionInfo": {
     "elapsed": 7,
     "status": "ok",
     "timestamp": 1679915408933,
     "user": {
      "displayName": "Jitendra Rathod",
      "userId": "08588782662248261812"
     },
     "user_tz": -330
    },
    "id": "0ab1d4b0",
    "outputId": "76093bce-910a-4418-f32f-3b52a7b24e2e"
   },
   "outputs": [],
   "source": [
    "import keyword\n",
    "print(keyword.kwlist)  # listing out the keywords within Python"
   ]
  },
  {
   "cell_type": "code",
   "execution_count": null,
   "id": "7a9ef08d",
   "metadata": {
    "id": "7a9ef08d"
   },
   "outputs": [],
   "source": [
    "len(keyword.kwlist)"
   ]
  },
  {
   "cell_type": "code",
   "execution_count": 1,
   "id": "1e6f0d16-f3c7-4a91-8ac6-4994703fe0a9",
   "metadata": {},
   "outputs": [
    {
     "name": "stdout",
     "output_type": "stream",
     "text": [
      "\n",
      "Here is a list of the Python keywords.  Enter any keyword to get more help.\n",
      "\n",
      "False               class               from                or\n",
      "None                continue            global              pass\n",
      "True                def                 if                  raise\n",
      "and                 del                 import              return\n",
      "as                  elif                in                  try\n",
      "assert              else                is                  while\n",
      "async               except              lambda              with\n",
      "await               finally             nonlocal            yield\n",
      "break               for                 not                 \n",
      "\n"
     ]
    }
   ],
   "source": [
    "help(\"keywords\")"
   ]
  },
  {
   "cell_type": "markdown",
   "id": "c15e70c8",
   "metadata": {
    "id": "c15e70c8"
   },
   "source": [
    "# Identifiers"
   ]
  },
  {
   "cell_type": "markdown",
   "id": "df25a769-6a06-41e8-aee9-efa832193e34",
   "metadata": {},
   "source": [
    "## <b> Variables</b>\n",
    "<p> When you create a variable, the\n",
    "interpreter will reserve some space in the memory to store values.</p>\n",
    "</br>\n",
    "\n",
    " <p> There are certain rules or naming conventions for naming variables or identiiers. The following are the rules:\n",
    "\n",
    " <li>Reserved key words such as if, else, and so on cannot be used for naming variables\n",
    "<li>Variable names can begin with _ or a letter\n",
    "<li>Variable names can be in lower case and uppercase\n",
    "<li>Variable names cannot start with a number \n",
    "<li>White space characters are not allowed in the naming of a variable\n",
    "\n",
    "\n",
    "</br>\n",
    "\n",
    "<table>\n",
    "  <tr>\n",
    "    <th>Variables</th>\n",
    "    <th>Valid\\invalid </th>\n",
    "    <th>Reason</th>\n",
    "   \n",
    "  </tr>\n",
    "  <tr>\n",
    "    <td>city</td>\n",
    "    <td>Valid</td>\n",
    "    <td>Variable names can be in lower case and uppercase</td>\n",
    "    \n",
    "    \n",
    "  </tr>\n",
    "  <tr>\n",
    "  <td>for</td>\n",
    "    <td>invalid</td>\n",
    "    <td>Reserved key words</td>\n",
    "   \n",
    "   \n",
    "  </tr>\n",
    "\n",
    "  <tr>\n",
    "  <td>break</td>\n",
    "    <td>invalid</td>\n",
    "    <td>Reserved key words</td>\n",
    "   \n",
    "   \n",
    "  </tr>\n",
    "\n",
    "  <tr>\n",
    "  <td>_sum</td>\n",
    "    <td>valid</td>\n",
    "    <td>Variable names can begin with _  or a letter</td>\n",
    "   \n",
    "   \n",
    "  </tr>\n",
    "  <tr>\n",
    "  <td>&nbsp temp</td>\n",
    "    <td>invalid</td>\n",
    "    <td>White space characters are not allowed in the naming of a variable</td>\n",
    "   \n",
    "   \n",
    "  </tr>\n",
    "\n",
    "  <tr>\n",
    "  <td>user name</td>\n",
    "    <td>invalid</td>\n",
    "    <td>White space characters are not allowed in the naming of a variable</td>\n",
    "   \n",
    "   \n",
    "  </tr>\n",
    "  <tr>\n",
    "  <td> user_name</td>\n",
    "    <td>invalid</td>\n",
    "    <td>Variable names can begin with _ or a letter</td>\n",
    "   \n",
    "   \n",
    "  </tr>\n",
    "  <tr>\n",
    "  <td>2fname</td>\n",
    "    <td>invalid</td>\n",
    "    <td>Variable names cannot start with a number</td>\n",
    "   \n",
    "   \n",
    "  </tr>\n",
    "<tr>\n",
    "  <td>fname2</td>\n",
    "    <td>valid</td>\n",
    "    <td>Variable names can begin with _ or a letter</td>\n",
    "   \n",
    "   \n",
    "  </tr>\n",
    "</table>\n"
   ]
  },
  {
   "cell_type": "markdown",
   "id": "41911e15",
   "metadata": {
    "id": "41911e15"
   },
   "source": [
    "* An identifier is the name we provide to an entity such as a function or variable.\n",
    "* It helps in differentiating one entity from other.\n",
    "  \n",
    "_There are certain dos and don'ts to observe while picking an identifier._"
   ]
  },
  {
   "cell_type": "code",
   "execution_count": null,
   "id": "66cb1403",
   "metadata": {
    "id": "66cb1403"
   },
   "outputs": [],
   "source": [
    "2var=34  #identifier cannot begin with a digit"
   ]
  },
  {
   "cell_type": "code",
   "execution_count": null,
   "id": "c100d47b",
   "metadata": {
    "id": "c100d47b"
   },
   "outputs": [],
   "source": [
    "word@123='abc' # cannot use special symbols"
   ]
  },
  {
   "cell_type": "code",
   "execution_count": null,
   "id": "57ac31ff",
   "metadata": {
    "id": "57ac31ff"
   },
   "outputs": [],
   "source": [
    "import=153 # Keywords cannot be used as identifier"
   ]
  },
  {
   "cell_type": "code",
   "execution_count": null,
   "id": "2bba50bc",
   "metadata": {
    "id": "2bba50bc"
   },
   "outputs": [],
   "source": [
    "\"\"\"Correct way of defining an identifier:\n",
    "(Identifiers can be a combination of letters in lowercase (a to z) or uppercase\n",
    "and only special character allowed is _ )\"\"\"\n",
    "var_1 = 14 # the variable var_1 has been initialised with a value of 14"
   ]
  },
  {
   "cell_type": "code",
   "execution_count": null,
   "id": "1f250660",
   "metadata": {
    "id": "1f250660"
   },
   "outputs": [],
   "source": [
    "VAR_1=2 # new variable assigned\n",
    "var_1 + VAR_1"
   ]
  },
  {
   "cell_type": "code",
   "execution_count": null,
   "id": "683313e3",
   "metadata": {
    "id": "683313e3"
   },
   "outputs": [],
   "source": [
    "city_ind = \"Mumbai\""
   ]
  },
  {
   "cell_type": "markdown",
   "id": "97b903b7",
   "metadata": {
    "id": "97b903b7"
   },
   "source": [
    "# Comments\n",
    "The use of comments in a code cell can explain the method or operation in use. Commenting helps to\n",
    "- Improve readability\n",
    "- Make for a quick review of the work"
   ]
  },
  {
   "cell_type": "code",
   "execution_count": null,
   "id": "bba78a99",
   "metadata": {
    "id": "bba78a99"
   },
   "outputs": [],
   "source": [
    "# Hashtag is effective for short phrases\n",
    "units = 10\n",
    "sell_price = 120\n",
    "total = units*sell_price  # Total amount "
   ]
  },
  {
   "cell_type": "code",
   "execution_count": null,
   "id": "1ca2252d",
   "metadata": {
    "id": "1ca2252d"
   },
   "outputs": [],
   "source": [
    "total # if we have long sentences and need to go to the next line, \n",
    "# we cannot continue it without another hashtag"
   ]
  },
  {
   "cell_type": "markdown",
   "id": "62ac1ae9-43a5-49ec-88b9-a6b133041130",
   "metadata": {
    "id": "2f772d53"
   },
   "source": [
    "#### The syntax is designed such that the comment is ignored by the kernel during execution of the cell."
   ]
  },
  {
   "cell_type": "code",
   "execution_count": null,
   "id": "31a80171",
   "metadata": {
    "id": "31a80171"
   },
   "outputs": [],
   "source": [
    "'''\n",
    "Multi-line remarks becomes easy to \n",
    "express with this style of commenting.\n",
    "'''\n",
    "num1 = 25\n",
    "num2 = 50\n",
    "sum = num1 + num2\n",
    "sum"
   ]
  },
  {
   "cell_type": "code",
   "execution_count": null,
   "id": "50aab966-f47f-4d82-9633-09187cdc54b7",
   "metadata": {
    "id": "2bba50bc"
   },
   "outputs": [],
   "source": [
    "\"\"\"Correct way of defining an identifier:\n",
    "(Identifiers can be a combination of letters in lowercase (a to z) or uppercase\n",
    "and only special character allowed is _ )\"\"\"\n",
    "var_1 = 14 # the variable var_1 has been initialised with a value of 14"
   ]
  },
  {
   "cell_type": "markdown",
   "id": "a76869bd",
   "metadata": {
    "id": "a76869bd"
   },
   "source": [
    "# Statements\n",
    "* Instructions that a Python interpreter can execute"
   ]
  },
  {
   "cell_type": "code",
   "execution_count": null,
   "id": "49b580e9",
   "metadata": {
    "id": "49b580e9"
   },
   "outputs": [],
   "source": [
    "# Single line statement\n",
    "p1 = 20 + 30 +  40  +  50 + 70 + 80\n",
    "p1"
   ]
  },
  {
   "cell_type": "code",
   "execution_count": null,
   "id": "0465af83",
   "metadata": {
    "id": "0465af83"
   },
   "outputs": [],
   "source": [
    "# Multiple line statement\n",
    "p1 = 20 + 30 \\\n",
    "+  40  +  50  \\\n",
    "+ 70 + 80\n",
    "p1"
   ]
  },
  {
   "cell_type": "markdown",
   "id": "a48922a0",
   "metadata": {
    "id": "a48922a0"
   },
   "source": [
    "# Variables"
   ]
  },
  {
   "cell_type": "markdown",
   "id": "33961071",
   "metadata": {
    "id": "33961071"
   },
   "source": [
    "*  A Python variable creates a reserved memory location to store a value.\n",
    "*  A variable can be initialised by assigning some value to begin with."
   ]
  },
  {
   "cell_type": "code",
   "execution_count": null,
   "id": "85427289",
   "metadata": {
    "id": "85427289"
   },
   "outputs": [],
   "source": [
    "k=30 ## variable creation"
   ]
  },
  {
   "cell_type": "code",
   "execution_count": null,
   "id": "3670495c",
   "metadata": {
    "id": "3670495c"
   },
   "outputs": [],
   "source": [
    "k ## calling of variable"
   ]
  },
  {
   "cell_type": "code",
   "execution_count": null,
   "id": "fd3cbba9",
   "metadata": {
    "id": "fd3cbba9"
   },
   "outputs": [],
   "source": [
    "print(k) ## print the variable"
   ]
  },
  {
   "cell_type": "code",
   "execution_count": null,
   "id": "2f1f3a0f-aee2-46aa-a282-ee80ee889cd5",
   "metadata": {},
   "outputs": [],
   "source": [
    "tigers = 2500\n",
    "lions = 1450\n",
    "tigers\n",
    "lions  # attempt to call multiple variables"
   ]
  },
  {
   "cell_type": "code",
   "execution_count": null,
   "id": "0025bd3b-44d6-4cd0-a943-bd91e39ada5e",
   "metadata": {},
   "outputs": [],
   "source": [
    "print(tigers) # requires print() function to execute multiple displays\n",
    "print(lions)"
   ]
  },
  {
   "cell_type": "markdown",
   "id": "c4e3a2d2",
   "metadata": {
    "id": "c4e3a2d2"
   },
   "source": [
    "## Variable Assignment"
   ]
  },
  {
   "cell_type": "code",
   "execution_count": null,
   "id": "f741d376",
   "metadata": {
    "id": "f741d376",
    "scrolled": true
   },
   "outputs": [],
   "source": [
    "intvar = 10 # Integer variable\n",
    "floatvar = 2.57 # Float Variable\n",
    "strvar = \"Python Language\" # String variable\n",
    "print(intvar)\n",
    "print(floatvar)\n",
    "print(strvar)"
   ]
  },
  {
   "cell_type": "markdown",
   "id": "aff84426",
   "metadata": {
    "id": "aff84426"
   },
   "source": [
    "### Multiple Assignment"
   ]
  },
  {
   "cell_type": "code",
   "execution_count": null,
   "id": "d4683b2a",
   "metadata": {
    "id": "d4683b2a",
    "scrolled": true
   },
   "outputs": [],
   "source": [
    "species,age,bp = \"Elephant\",50,125.6\n",
    "# Using commas to separate variables\n",
    "print(\"Species:\",species)\n",
    "print(\"Lifespan in years:\",age)\n",
    "print(\"Average blood pressure:\",bp)"
   ]
  },
  {
   "cell_type": "code",
   "execution_count": null,
   "id": "1644ff55",
   "metadata": {
    "id": "1644ff55",
    "scrolled": true
   },
   "outputs": [],
   "source": [
    "p1 = p2 = p3 = p4 = 44\n",
    "# All variables pointing to same value\n",
    "print(p1,p2,p3,p4)"
   ]
  },
  {
   "cell_type": "markdown",
   "id": "37f99688",
   "metadata": {
    "id": "37f99688"
   },
   "source": [
    "# Data Types"
   ]
  },
  {
   "cell_type": "markdown",
   "id": "5a9a8cd3",
   "metadata": {
    "id": "5a9a8cd3"
   },
   "source": [
    "## Numeric\n",
    "**Integer**: denoted as int \n",
    "\n",
    "**Float**: denoted as float\n"
   ]
  },
  {
   "cell_type": "code",
   "execution_count": 3,
   "id": "3217d802",
   "metadata": {
    "id": "3217d802"
   },
   "outputs": [
    {
     "data": {
      "text/plain": [
       "int"
      ]
     },
     "execution_count": 3,
     "metadata": {},
     "output_type": "execute_result"
    }
   ],
   "source": [
    "a = 12\n",
    "type(a)"
   ]
  },
  {
   "cell_type": "code",
   "execution_count": 4,
   "id": "4f2ddc42-a9c8-4f23-96ff-9fbdbee673d0",
   "metadata": {},
   "outputs": [
    {
     "data": {
      "text/plain": [
       "int"
      ]
     },
     "execution_count": 4,
     "metadata": {},
     "output_type": "execute_result"
    }
   ],
   "source": [
    "b=-100\n",
    "type(b)"
   ]
  },
  {
   "cell_type": "markdown",
   "id": "d7c74ac7",
   "metadata": {
    "id": "d7c74ac7"
   },
   "source": [
    "## Boolean\n",
    "Boolean datatype can have only two possible values: True or False"
   ]
  },
  {
   "cell_type": "code",
   "execution_count": 5,
   "id": "052cf431",
   "metadata": {
    "id": "052cf431"
   },
   "outputs": [],
   "source": [
    "on=True"
   ]
  },
  {
   "cell_type": "code",
   "execution_count": 6,
   "id": "9cb97c89",
   "metadata": {
    "id": "9cb97c89"
   },
   "outputs": [],
   "source": [
    "off=False"
   ]
  },
  {
   "cell_type": "code",
   "execution_count": 7,
   "id": "0f453174",
   "metadata": {
    "id": "0f453174"
   },
   "outputs": [
    {
     "data": {
      "text/plain": [
       "bool"
      ]
     },
     "execution_count": 7,
     "metadata": {},
     "output_type": "execute_result"
    }
   ],
   "source": [
    "type(on)"
   ]
  },
  {
   "cell_type": "code",
   "execution_count": null,
   "id": "8c600c49",
   "metadata": {
    "id": "8c600c49"
   },
   "outputs": [],
   "source": [
    "bool(0)"
   ]
  },
  {
   "cell_type": "code",
   "execution_count": null,
   "id": "5b17409e",
   "metadata": {
    "id": "5b17409e"
   },
   "outputs": [],
   "source": [
    "bool(-98) # Anything apart from 0 is True"
   ]
  },
  {
   "cell_type": "markdown",
   "id": "b40a9db7",
   "metadata": {
    "id": "b40a9db7"
   },
   "source": [
    "## String"
   ]
  },
  {
   "cell_type": "markdown",
   "id": "6580adac",
   "metadata": {
    "id": "6580adac"
   },
   "source": [
    "> A sequence of characters is a string."
   ]
  },
  {
   "cell_type": "code",
   "execution_count": null,
   "id": "54346673",
   "metadata": {
    "id": "54346673"
   },
   "outputs": [],
   "source": [
    "doc = \"It's a fine day.\"\n",
    "doc"
   ]
  },
  {
   "cell_type": "code",
   "execution_count": null,
   "id": "c99b0d2d-0291-4992-8b11-73ea5ff9b9fd",
   "metadata": {},
   "outputs": [],
   "source": [
    "print(\"Type of the document:\",type(doc))"
   ]
  },
  {
   "cell_type": "code",
   "execution_count": null,
   "id": "34012e79",
   "metadata": {
    "id": "34012e79"
   },
   "outputs": [],
   "source": [
    "address = '#2 Main Street, 56/3' # Define string using single quotes\n",
    "print(address)"
   ]
  },
  {
   "cell_type": "markdown",
   "id": "bf4f55a9-9305-4d68-a62f-6a87c0241ee1",
   "metadata": {},
   "source": [
    "| Operators      | Description |  \n",
    "| :---        |:----:   |\n",
    "| subscript/indexing    | Positive subscript helps in accessing the string from the beginning. Negative subscript helps in accessing the string from the end.     |\n",
    "| concatination(+)   |  The + operator joins the text on  both sides of the operator|\n",
    "|Repeaters *      | The * operator repeats the string on the left hand side times the value on right hand side.|\n",
    "|in|The operator displays true if the string contains the given character or the sequence of characters.|\n",
    "|not in|The operator displays 1 if the string does not contain the given character or the sequence of characters|"
   ]
  },
  {
   "cell_type": "markdown",
   "id": "21e9ae35",
   "metadata": {
    "id": "21e9ae35"
   },
   "source": [
    "### String indexing"
   ]
  },
  {
   "cell_type": "markdown",
   "id": "4e42dc6e-d411-461f-92fc-032155f6ab8a",
   "metadata": {},
   "source": [
    "<table>\n",
    "  <tr>\n",
    "    <th>String</th>\n",
    "    <th>H</th>\n",
    "    <th>E</th>\n",
    "    <th>L</th>\n",
    "    <th>L</th>\n",
    "    <th>0</th>\n",
    "    <th> </th>\n",
    "    <th>P</th>\n",
    "    <th>Y</th>\n",
    "    <th>T</th>\n",
    "    <th>H</th>\n",
    "    <th>O</th>\n",
    "    <th>N</th>\n",
    "  </tr>\n",
    "  <tr>\n",
    "    <td>Positive Index</td>\n",
    "    <td>0</td>\n",
    "    <td>1</td>\n",
    "    <td>2</td>\n",
    "    <td>3</td>\n",
    "    <td>4</td>\n",
    "    <td>5</td>\n",
    "    <td>6</td>\n",
    "    <td>7</td>\n",
    "    <td>8</td>\n",
    "    <td>9</td>\n",
    "    <td>10</td>\n",
    "    <td>11</td>\n",
    "   \n",
    "  </tr>\n",
    "  <tr>\n",
    "  <td>Negative Index</td>\n",
    "    <td>-12</td>\n",
    "    <td>-11</td>\n",
    "    <td>-10</td>\n",
    "    <td>-9</td>\n",
    "    <td>-8</td>\n",
    "    <td>-7</td>\n",
    "    <td>-6</td>\n",
    "    <td>-5</td>\n",
    "    <td>-4</td>\n",
    "    <td>-3</td>\n",
    "    <td>-2</td>\n",
    "    <td>-1</td>\n",
    "  </tr>\n",
    "</table>"
   ]
  },
  {
   "cell_type": "code",
   "execution_count": 3,
   "id": "cd4091f8",
   "metadata": {
    "id": "cd4091f8",
    "scrolled": true
   },
   "outputs": [],
   "source": [
    "str1='HELLO PYTHON'"
   ]
  },
  {
   "cell_type": "code",
   "execution_count": 7,
   "id": "bb12a213",
   "metadata": {
    "id": "bb12a213"
   },
   "outputs": [
    {
     "data": {
      "text/plain": [
       "'O'"
      ]
     },
     "execution_count": 7,
     "metadata": {},
     "output_type": "execute_result"
    }
   ],
   "source": [
    "str1[4] # First character in string \"str1\"\n"
   ]
  },
  {
   "cell_type": "code",
   "execution_count": 10,
   "id": "dead0eea",
   "metadata": {
    "id": "dead0eea"
   },
   "outputs": [
    {
     "data": {
      "text/plain": [
       "'O'"
      ]
     },
     "execution_count": 10,
     "metadata": {},
     "output_type": "execute_result"
    }
   ],
   "source": [
    "str1[-8] # reverse indexing possible"
   ]
  },
  {
   "cell_type": "code",
   "execution_count": null,
   "id": "f4bc7dfc",
   "metadata": {
    "id": "f4bc7dfc"
   },
   "outputs": [],
   "source": [
    "len(str1) # Number of chars in given string"
   ]
  },
  {
   "cell_type": "code",
   "execution_count": null,
   "id": "686c1440",
   "metadata": {
    "id": "686c1440"
   },
   "outputs": [],
   "source": [
    "str1[-1] # Last character \n"
   ]
  },
  {
   "cell_type": "code",
   "execution_count": 11,
   "id": "123531e7",
   "metadata": {
    "id": "123531e7"
   },
   "outputs": [
    {
     "data": {
      "text/plain": [
       "'P'"
      ]
     },
     "execution_count": 11,
     "metadata": {},
     "output_type": "execute_result"
    }
   ],
   "source": [
    "str1[6] #Fetch 7th element of the string"
   ]
  },
  {
   "cell_type": "code",
   "execution_count": 12,
   "id": "5587985f-8fca-4388-ae3a-cc3c610d3098",
   "metadata": {},
   "outputs": [
    {
     "ename": "IndexError",
     "evalue": "string index out of range",
     "output_type": "error",
     "traceback": [
      "\u001b[1;31m---------------------------------------------------------------------------\u001b[0m",
      "\u001b[1;31mIndexError\u001b[0m                                Traceback (most recent call last)",
      "Cell \u001b[1;32mIn[12], line 1\u001b[0m\n\u001b[1;32m----> 1\u001b[0m str1[\u001b[38;5;241m14\u001b[39m]\n",
      "\u001b[1;31mIndexError\u001b[0m: string index out of range"
     ]
    }
   ],
   "source": [
    "str1[14]"
   ]
  },
  {
   "cell_type": "markdown",
   "id": "617e14ce",
   "metadata": {
    "id": "617e14ce"
   },
   "source": [
    "### String Slicing"
   ]
  },
  {
   "cell_type": "code",
   "execution_count": 13,
   "id": "5fc7ec35-2678-4622-91ed-69c4fab10ce6",
   "metadata": {},
   "outputs": [
    {
     "data": {
      "text/plain": [
       "'HELLO PYTHON'"
      ]
     },
     "execution_count": 13,
     "metadata": {},
     "output_type": "execute_result"
    }
   ],
   "source": [
    "str1"
   ]
  },
  {
   "cell_type": "code",
   "execution_count": null,
   "id": "aeffc1eb-df8e-45b6-b0f4-0f5d85a299a4",
   "metadata": {},
   "outputs": [],
   "source": [
    "#str1[start:end:step]\n",
    "str1[:]"
   ]
  },
  {
   "cell_type": "code",
   "execution_count": null,
   "id": "297a7203-37e9-4c63-9cd9-06745ef1c200",
   "metadata": {},
   "outputs": [],
   "source": [
    "str1[:5] # default start ~ beginning of string"
   ]
  },
  {
   "cell_type": "code",
   "execution_count": null,
   "id": "b5bf93b9-b9fb-4471-9004-1a7f81fe6beb",
   "metadata": {},
   "outputs": [],
   "source": [
    "str1[1:]"
   ]
  },
  {
   "cell_type": "code",
   "execution_count": null,
   "id": "8551adc4-ec85-4bc5-b1be-9475719c4eee",
   "metadata": {},
   "outputs": [],
   "source": [
    "str1[0:5]  # "
   ]
  },
  {
   "cell_type": "code",
   "execution_count": 14,
   "id": "51e851cb",
   "metadata": {
    "id": "51e851cb"
   },
   "outputs": [
    {
     "data": {
      "text/plain": [
       "'HELLO'"
      ]
     },
     "execution_count": 14,
     "metadata": {},
     "output_type": "execute_result"
    }
   ],
   "source": [
    "str1[2:6] ## start:end"
   ]
  },
  {
   "cell_type": "code",
   "execution_count": 16,
   "id": "16e6c9f6-aefa-4175-824c-9c3a8a368a55",
   "metadata": {},
   "outputs": [
    {
     "data": {
      "text/plain": [
       "'HELLO PYTHON'"
      ]
     },
     "execution_count": 16,
     "metadata": {},
     "output_type": "execute_result"
    }
   ],
   "source": [
    "str1[::1]"
   ]
  },
  {
   "cell_type": "code",
   "execution_count": 17,
   "id": "76e88a64-b9e1-4108-91b8-30cac7026c13",
   "metadata": {},
   "outputs": [
    {
     "data": {
      "text/plain": [
       "'HLOPTO'"
      ]
     },
     "execution_count": 17,
     "metadata": {},
     "output_type": "execute_result"
    }
   ],
   "source": [
    "str1[::2]"
   ]
  },
  {
   "cell_type": "code",
   "execution_count": 19,
   "id": "c220ac52-4d37-40e6-9b90-46d35cf6b8ba",
   "metadata": {},
   "outputs": [
    {
     "data": {
      "text/plain": [
       "'NOHTYP OLLEH'"
      ]
     },
     "execution_count": 19,
     "metadata": {},
     "output_type": "execute_result"
    }
   ],
   "source": [
    "str1[::-1] # reverse the string"
   ]
  },
  {
   "cell_type": "code",
   "execution_count": 21,
   "id": "27040e35",
   "metadata": {
    "id": "27040e35",
    "outputId": "c62e63e0-645a-4d0b-b069-f4afdd3b20ee"
   },
   "outputs": [
    {
     "data": {
      "text/plain": [
       "'NHY LE'"
      ]
     },
     "execution_count": 21,
     "metadata": {},
     "output_type": "execute_result"
    }
   ],
   "source": [
    "# str1[start:end:step]\n",
    "\n",
    "str1[::-2]"
   ]
  },
  {
   "cell_type": "markdown",
   "id": "26ea1f22",
   "metadata": {
    "id": "26ea1f22"
   },
   "source": [
    "### Update and Delete string"
   ]
  },
  {
   "cell_type": "markdown",
   "id": "8be8dec6",
   "metadata": {
    "id": "8be8dec6"
   },
   "source": [
    "* Strings are immutable which means elements of a\n",
    "string cannot be changed once the they are assigned with\n",
    "any values\n"
   ]
  },
  {
   "cell_type": "code",
   "execution_count": 22,
   "id": "b48e5be5",
   "metadata": {
    "id": "b48e5be5"
   },
   "outputs": [
    {
     "data": {
      "text/plain": [
       "'Data'"
      ]
     },
     "execution_count": 22,
     "metadata": {},
     "output_type": "execute_result"
    }
   ],
   "source": [
    "course='Data Science'\n",
    "course[:4]"
   ]
  },
  {
   "cell_type": "code",
   "execution_count": 23,
   "id": "67aec6de",
   "metadata": {
    "colab": {
     "base_uri": "https://localhost:8080/",
     "height": 211
    },
    "executionInfo": {
     "elapsed": 9,
     "status": "error",
     "timestamp": 1696745745237,
     "user": {
      "displayName": "Rama Chandra Kotturu",
      "userId": "02243285469857073193"
     },
     "user_tz": -330
    },
    "id": "67aec6de",
    "outputId": "c129477c-3761-4bc1-b99e-9c2ece07b679"
   },
   "outputs": [
    {
     "ename": "TypeError",
     "evalue": "'str' object does not support item assignment",
     "output_type": "error",
     "traceback": [
      "\u001b[1;31m---------------------------------------------------------------------------\u001b[0m",
      "\u001b[1;31mTypeError\u001b[0m                                 Traceback (most recent call last)",
      "Cell \u001b[1;32mIn[23], line 1\u001b[0m\n\u001b[1;32m----> 1\u001b[0m course[:\u001b[38;5;241m4\u001b[39m] \u001b[38;5;241m=\u001b[39m \u001b[38;5;124m\"\u001b[39m\u001b[38;5;124mLife\u001b[39m\u001b[38;5;124m\"\u001b[39m\n",
      "\u001b[1;31mTypeError\u001b[0m: 'str' object does not support item assignment"
     ]
    }
   ],
   "source": [
    "course[:4] = \"Life\""
   ]
  },
  {
   "cell_type": "code",
   "execution_count": 24,
   "id": "8d6adf19-c1f7-4fe2-b7f0-902b077d1910",
   "metadata": {},
   "outputs": [
    {
     "name": "stdout",
     "output_type": "stream",
     "text": [
      "Data Science\n"
     ]
    }
   ],
   "source": [
    "# while it delivers the output\n",
    "print(course) # the immutable string remains unchanged"
   ]
  },
  {
   "cell_type": "code",
   "execution_count": 25,
   "id": "5ad6c1da-ebfe-40ea-af52-9efdf5da7a52",
   "metadata": {},
   "outputs": [
    {
     "ename": "NameError",
     "evalue": "name 'course' is not defined",
     "output_type": "error",
     "traceback": [
      "\u001b[1;31m---------------------------------------------------------------------------\u001b[0m",
      "\u001b[1;31mNameError\u001b[0m                                 Traceback (most recent call last)",
      "Cell \u001b[1;32mIn[25], line 2\u001b[0m\n\u001b[0;32m      1\u001b[0m \u001b[38;5;28;01mdel\u001b[39;00m course \u001b[38;5;66;03m# delete the object\u001b[39;00m\n\u001b[1;32m----> 2\u001b[0m course\n",
      "\u001b[1;31mNameError\u001b[0m: name 'course' is not defined"
     ]
    }
   ],
   "source": [
    "del course # delete the object\n",
    "course # called right after - error confirms success"
   ]
  },
  {
   "cell_type": "markdown",
   "id": "b5b59f30",
   "metadata": {
    "id": "b5b59f30"
   },
   "source": [
    "### String concatenation\n"
   ]
  },
  {
   "cell_type": "code",
   "execution_count": null,
   "id": "4c2cc25b",
   "metadata": {
    "id": "4c2cc25b"
   },
   "outputs": [],
   "source": [
    "#  String concatenation\n",
    "s1 = \"Well\"\n",
    "s2 = \"being\"\n",
    "s1 + s2"
   ]
  },
  {
   "cell_type": "code",
   "execution_count": null,
   "id": "b9a1bc0e",
   "metadata": {
    "id": "b9a1bc0e"
   },
   "outputs": [],
   "source": [
    "# storing the result\n",
    "s3 = s1 + \"-\" + s2\n",
    "s3"
   ]
  },
  {
   "cell_type": "markdown",
   "id": "7b1f3379",
   "metadata": {
    "id": "7b1f3379"
   },
   "source": [
    "### String Membership"
   ]
  },
  {
   "cell_type": "code",
   "execution_count": 26,
   "id": "86d2b79a",
   "metadata": {
    "id": "86d2b79a"
   },
   "outputs": [
    {
     "data": {
      "text/plain": [
       "'Hello Namaste ,Good Evening '"
      ]
     },
     "execution_count": 26,
     "metadata": {},
     "output_type": "execute_result"
    }
   ],
   "source": [
    "greeting = \"Hello Namaste ,Good Evening \"\n",
    "greeting"
   ]
  },
  {
   "cell_type": "code",
   "execution_count": 27,
   "id": "073089bb",
   "metadata": {
    "id": "073089bb",
    "outputId": "9cf537ce-26f1-4ee7-c863-bc38afd3a1f5"
   },
   "outputs": [
    {
     "data": {
      "text/plain": [
       "True"
      ]
     },
     "execution_count": 27,
     "metadata": {},
     "output_type": "execute_result"
    }
   ],
   "source": [
    "'Hello' in greeting # Check for presence of substring within a document"
   ]
  },
  {
   "cell_type": "code",
   "execution_count": 28,
   "id": "8c90f7d0",
   "metadata": {
    "id": "8c90f7d0",
    "outputId": "397087df-11a3-44a1-904f-4c025c71ce0b"
   },
   "outputs": [
    {
     "data": {
      "text/plain": [
       "True"
      ]
     },
     "execution_count": 28,
     "metadata": {},
     "output_type": "execute_result"
    }
   ],
   "source": [
    "\"Namaste\" in greeting"
   ]
  },
  {
   "cell_type": "code",
   "execution_count": 29,
   "id": "2e58f985-e42f-4078-945a-2b6c8aeaa35b",
   "metadata": {},
   "outputs": [
    {
     "data": {
      "text/plain": [
       "False"
      ]
     },
     "execution_count": 29,
     "metadata": {},
     "output_type": "execute_result"
    }
   ],
   "source": [
    "'hello' in greeting # case-sensitive"
   ]
  },
  {
   "cell_type": "code",
   "execution_count": null,
   "id": "feacd277-6b46-4f9f-8677-2c04520c854c",
   "metadata": {},
   "outputs": [],
   "source": [
    "\"morning\" not in greeting"
   ]
  },
  {
   "cell_type": "markdown",
   "id": "2cee5868-3ad4-4046-ac90-9d724755546c",
   "metadata": {},
   "source": [
    "# String Functions"
   ]
  },
  {
   "cell_type": "code",
   "execution_count": 36,
   "id": "190382dd-a06c-4414-8b37-f23a2b48ef92",
   "metadata": {},
   "outputs": [],
   "source": [
    "mystr2=\" hello Everyone,Good Morning \""
   ]
  },
  {
   "cell_type": "code",
   "execution_count": 37,
   "id": "52b947fb-fd15-4e25-947a-d4c8d076e198",
   "metadata": {},
   "outputs": [
    {
     "data": {
      "text/plain": [
       "3"
      ]
     },
     "execution_count": 37,
     "metadata": {},
     "output_type": "execute_result"
    }
   ],
   "source": [
    "mystr2.count(\"e\")"
   ]
  },
  {
   "cell_type": "code",
   "execution_count": 38,
   "id": "df89da94-768b-4fe7-8c7c-cdf43a211940",
   "metadata": {},
   "outputs": [
    {
     "data": {
      "text/plain": [
       "1"
      ]
     },
     "execution_count": 38,
     "metadata": {},
     "output_type": "execute_result"
    }
   ],
   "source": [
    "mystr2.count(\"E\")"
   ]
  },
  {
   "cell_type": "code",
   "execution_count": 39,
   "id": "f3ccee26-39d1-485e-8661-306272fa919b",
   "metadata": {},
   "outputs": [
    {
     "data": {
      "text/plain": [
       "' hello everyone,good morning '"
      ]
     },
     "execution_count": 39,
     "metadata": {},
     "output_type": "execute_result"
    }
   ],
   "source": [
    "mystr2.lower()"
   ]
  },
  {
   "cell_type": "code",
   "execution_count": 40,
   "id": "00a8f8f8-9960-47a6-a1c3-7dae2d224e74",
   "metadata": {},
   "outputs": [
    {
     "data": {
      "text/plain": [
       "' HELLO EVERYONE,GOOD MORNING '"
      ]
     },
     "execution_count": 40,
     "metadata": {},
     "output_type": "execute_result"
    }
   ],
   "source": [
    "mystr2.upper()"
   ]
  },
  {
   "cell_type": "code",
   "execution_count": 41,
   "id": "3b413327-5b2b-49c4-9b70-06473b43a204",
   "metadata": {},
   "outputs": [
    {
     "data": {
      "text/plain": [
       "8"
      ]
     },
     "execution_count": 41,
     "metadata": {},
     "output_type": "execute_result"
    }
   ],
   "source": [
    "mystr2.index(\"v\")"
   ]
  },
  {
   "cell_type": "code",
   "execution_count": 42,
   "id": "2caff719-9de1-4e1c-aadd-5d835daaecd0",
   "metadata": {},
   "outputs": [
    {
     "data": {
      "text/plain": [
       "['hello', 'Everyone,Good', 'Morning']"
      ]
     },
     "execution_count": 42,
     "metadata": {},
     "output_type": "execute_result"
    }
   ],
   "source": [
    "mystr2.split()"
   ]
  },
  {
   "cell_type": "code",
   "execution_count": 45,
   "id": "635fa1c3-c228-4a36-bb4b-2b4f4b7263eb",
   "metadata": {},
   "outputs": [
    {
     "data": {
      "text/plain": [
       "['Amit', 'Banu', 'Chetan', 'Dhanu']"
      ]
     },
     "execution_count": 45,
     "metadata": {},
     "output_type": "execute_result"
    }
   ],
   "source": [
    "mystr3 = \"Amit:Banu:Chetan:Dhanu\"\n",
    "mystr3.split(\":\")"
   ]
  },
  {
   "cell_type": "markdown",
   "id": "8ece4e99",
   "metadata": {
    "id": "8ece4e99"
   },
   "source": [
    "### String Partitioning\n",
    "partition() searches for a substring as argument to break up the string into 3 parts:\n",
    "- part before the argument\n",
    "- argument substring\n",
    "- part following the argument"
   ]
  },
  {
   "cell_type": "code",
   "execution_count": 30,
   "id": "0ba08747",
   "metadata": {
    "executionInfo": {
     "elapsed": 454,
     "status": "ok",
     "timestamp": 1652335083127,
     "user": {
      "displayName": "Rohan Ravindra Sohani",
      "userId": "06993368347103045844"
     },
     "user_tz": -330
    },
    "id": "0ba08747",
    "outputId": "290c7825-e707-4c93-e417-d7d4ffc353c7"
   },
   "outputs": [
    {
     "data": {
      "text/plain": [
       "('My name is Arjun ', 'and', \" I'm from Mumbai\")"
      ]
     },
     "execution_count": 30,
     "metadata": {},
     "output_type": "execute_result"
    }
   ],
   "source": [
    "str5 = \"My name is Arjun and I'm from Mumbai\"\n",
    "L = str5.partition(\"and\")\n",
    "L"
   ]
  },
  {
   "cell_type": "raw",
   "id": "f9da10e6-2b89-42c1-a302-4b043df1b468",
   "metadata": {
    "id": "4ee663bd"
   },
   "source": [
    "In the above string, \"and\" occurs twice. partition() locates the first instance."
   ]
  },
  {
   "cell_type": "code",
   "execution_count": 47,
   "id": "be81f2fa",
   "metadata": {
    "id": "be81f2fa",
    "outputId": "2164e1ae-255b-4ec4-b248-3e4be2e195c8"
   },
   "outputs": [
    {
     "data": {
      "text/plain": [
       "' Hello Everyone    '"
      ]
     },
     "execution_count": 47,
     "metadata": {},
     "output_type": "execute_result"
    }
   ],
   "source": [
    "mystr6 = \" Hello Everyone    \"\n",
    "mystr6"
   ]
  },
  {
   "cell_type": "code",
   "execution_count": 49,
   "id": "e7a3b771",
   "metadata": {
    "id": "e7a3b771",
    "outputId": "0f9ee69d-4083-4260-8986-c50c7b87dd3c"
   },
   "outputs": [
    {
     "data": {
      "text/plain": [
       "'Hello Everyone'"
      ]
     },
     "execution_count": 49,
     "metadata": {},
     "output_type": "execute_result"
    }
   ],
   "source": [
    "mystr6.strip() # removes whitespaces at the start and end of string"
   ]
  },
  {
   "cell_type": "code",
   "execution_count": 50,
   "id": "ed2b80db",
   "metadata": {
    "id": "ed2b80db"
   },
   "outputs": [],
   "source": [
    "new_greet=mystr6.strip()"
   ]
  },
  {
   "cell_type": "code",
   "execution_count": 51,
   "id": "822cbd37",
   "metadata": {
    "id": "822cbd37",
    "outputId": "71e0085f-a1c8-493d-e8dc-3adfa56191a8"
   },
   "outputs": [
    {
     "data": {
      "text/plain": [
       "'Hello Everyone'"
      ]
     },
     "execution_count": 51,
     "metadata": {},
     "output_type": "execute_result"
    }
   ],
   "source": [
    "new_greet"
   ]
  },
  {
   "cell_type": "code",
   "execution_count": 52,
   "id": "af7c9b10",
   "metadata": {
    "id": "af7c9b10"
   },
   "outputs": [
    {
     "data": {
      "text/plain": [
       "'*******Preparation Predecessor Premonition Prenuptials Projection********'"
      ]
     },
     "execution_count": 52,
     "metadata": {},
     "output_type": "execute_result"
    }
   ],
   "source": [
    "mystr7='*******Preparation Predecessor Premonition Prenuptials Projection********'\n",
    "mystr7"
   ]
  },
  {
   "cell_type": "code",
   "execution_count": 54,
   "id": "32e3d5f1-3742-454c-8487-0408c94feeda",
   "metadata": {},
   "outputs": [
    {
     "data": {
      "text/plain": [
       "'Preparation Predecessor Premonition Prenuptials Projection'"
      ]
     },
     "execution_count": 54,
     "metadata": {},
     "output_type": "execute_result"
    }
   ],
   "source": [
    "mystr7.strip(\"*\") # default"
   ]
  },
  {
   "cell_type": "markdown",
   "id": "77abfe22-4ce2-4f6a-ae94-ee15641c7410",
   "metadata": {},
   "source": [
    "### format() for a string"
   ]
  },
  {
   "cell_type": "code",
   "execution_count": 56,
   "id": "ff8f5f98",
   "metadata": {
    "id": "ff8f5f98",
    "outputId": "bf72a4a5-8f64-4c51-fe49-643f4555fe5d"
   },
   "outputs": [
    {
     "data": {
      "text/plain": [
       "'Cost of the three items are 40 , 77 and 55 respectively.'"
      ]
     },
     "execution_count": 56,
     "metadata": {},
     "output_type": "execute_result"
    }
   ],
   "source": [
    "# Combining string & numbers using format method\n",
    "item1 = 40\n",
    "item2 = 55\n",
    "item3 = 77\n",
    "\"Cost of the three items are {} , {} and {} respectively.\".format(item1,item3,item2)"
   ]
  },
  {
   "cell_type": "code",
   "execution_count": 55,
   "id": "d3cb556b-98f7-45a9-967d-5c9607381c92",
   "metadata": {},
   "outputs": [
    {
     "name": "stdout",
     "output_type": "stream",
     "text": [
      "The value of a is 5000 and the value of b is 3000 value of c is 9  \n"
     ]
    }
   ],
   "source": [
    "a=5000\n",
    "b=3000\n",
    "c=9\n",
    "print('The value of a is {} and the value of b is {} value of c is {}  '.format(a,b,c))"
   ]
  },
  {
   "cell_type": "markdown",
   "id": "ed364f92",
   "metadata": {
    "id": "ed364f92"
   },
   "source": [
    "# Typecasting"
   ]
  },
  {
   "cell_type": "markdown",
   "id": "1eee6a0d",
   "metadata": {
    "id": "1eee6a0d"
   },
   "source": [
    "Type Casting is the process of a variable's data type converted into another type in order for an operation to be performed.\n",
    "\n",
    "* There are 2 ways in which typecasting occurs:\n",
    "\n",
    "1) Autotypecasting\n",
    "\n",
    "2) Forced Typecasting"
   ]
  },
  {
   "cell_type": "markdown",
   "id": "202310c5",
   "metadata": {
    "id": "202310c5"
   },
   "source": [
    "## Auto Typecasting\n",
    "* The Python interpreter automatically converts one data type to another without any user involvement."
   ]
  },
  {
   "cell_type": "code",
   "execution_count": null,
   "id": "85f98668",
   "metadata": {
    "id": "85f98668",
    "outputId": "5cef69de-3df3-49d8-8bdb-7a4d514c7ad9",
    "scrolled": true
   },
   "outputs": [],
   "source": [
    "4 + 5.67 + False\n",
    "##( background processing of the code) due to the\n",
    "##higher hierarchy of float datatype"
   ]
  },
  {
   "cell_type": "code",
   "execution_count": null,
   "id": "5ae66f4a",
   "metadata": {
    "id": "5ae66f4a",
    "outputId": "edc3836e-2555-4652-f091-77cfdeaa41ee"
   },
   "outputs": [],
   "source": [
    "4 + 5.6 + False + True"
   ]
  },
  {
   "cell_type": "code",
   "execution_count": null,
   "id": "d2d1107a",
   "metadata": {
    "colab": {
     "base_uri": "https://localhost:8080/",
     "height": 166
    },
    "executionInfo": {
     "elapsed": 8,
     "status": "error",
     "timestamp": 1652354423989,
     "user": {
      "displayName": "Rohan Ravindra Sohani",
      "userId": "06993368347103045844"
     },
     "user_tz": -330
    },
    "id": "d2d1107a",
    "outputId": "d1145384-0b36-470d-c901-9c394cf2fb51"
   },
   "outputs": [],
   "source": [
    "4+3+'data'+6.7"
   ]
  },
  {
   "cell_type": "markdown",
   "id": "86d08aae",
   "metadata": {
    "id": "86d08aae"
   },
   "source": [
    "## Forced Typecasting"
   ]
  },
  {
   "cell_type": "code",
   "execution_count": 58,
   "id": "d42d6532",
   "metadata": {
    "id": "d42d6532"
   },
   "outputs": [
    {
     "data": {
      "text/plain": [
       "float"
      ]
     },
     "execution_count": 58,
     "metadata": {},
     "output_type": "execute_result"
    }
   ],
   "source": [
    "a=9.7 # consider a float variable\n",
    "type(a)"
   ]
  },
  {
   "cell_type": "code",
   "execution_count": 60,
   "id": "5c4bd907",
   "metadata": {
    "id": "5c4bd907",
    "outputId": "a15e6835-34ce-4423-cb9d-e22c2ad96fa5"
   },
   "outputs": [
    {
     "data": {
      "text/plain": [
       "9"
      ]
     },
     "execution_count": 60,
     "metadata": {},
     "output_type": "execute_result"
    }
   ],
   "source": [
    "a_int=int(a)# drags to base integer value\n",
    "a_int"
   ]
  },
  {
   "cell_type": "code",
   "execution_count": 61,
   "id": "144e8519-dc06-45f3-9c3b-1c2cf8d621af",
   "metadata": {},
   "outputs": [
    {
     "data": {
      "text/plain": [
       "'9.7'"
      ]
     },
     "execution_count": 61,
     "metadata": {},
     "output_type": "execute_result"
    }
   ],
   "source": [
    "a_str=str(a)\n",
    "a_str"
   ]
  },
  {
   "cell_type": "code",
   "execution_count": 62,
   "id": "47adcb8c-1670-49b4-8e77-4baa49c4a943",
   "metadata": {},
   "outputs": [
    {
     "data": {
      "text/plain": [
       "True"
      ]
     },
     "execution_count": 62,
     "metadata": {},
     "output_type": "execute_result"
    }
   ],
   "source": [
    "a_bool=bool(a)\n",
    "a_bool"
   ]
  },
  {
   "cell_type": "code",
   "execution_count": 63,
   "id": "dc49132c",
   "metadata": {
    "id": "dc49132c"
   },
   "outputs": [
    {
     "data": {
      "text/plain": [
       "int"
      ]
     },
     "execution_count": 63,
     "metadata": {},
     "output_type": "execute_result"
    }
   ],
   "source": [
    "b=5 # consider an integer variable\n",
    "type(b)"
   ]
  },
  {
   "cell_type": "code",
   "execution_count": 64,
   "id": "afe1b8fe",
   "metadata": {
    "id": "afe1b8fe",
    "outputId": "ab1e2fae-0126-4a5f-db7c-4bcceff6f682"
   },
   "outputs": [
    {
     "data": {
      "text/plain": [
       "5.0"
      ]
     },
     "execution_count": 64,
     "metadata": {},
     "output_type": "execute_result"
    }
   ],
   "source": [
    "b_float=float(b)\n",
    "b_float"
   ]
  },
  {
   "cell_type": "code",
   "execution_count": 65,
   "id": "5263d0e3",
   "metadata": {
    "id": "5263d0e3",
    "outputId": "f012207f-28c1-4c18-bcba-84b521c2ae32"
   },
   "outputs": [
    {
     "data": {
      "text/plain": [
       "True"
      ]
     },
     "execution_count": 65,
     "metadata": {},
     "output_type": "execute_result"
    }
   ],
   "source": [
    "b_bool=bool(b)  # boolean for any value except 0 is True\n",
    "b_bool"
   ]
  },
  {
   "cell_type": "code",
   "execution_count": 66,
   "id": "0ba33ee8",
   "metadata": {
    "id": "0ba33ee8",
    "outputId": "1c24056a-fe6a-49d2-d11f-d91285b29803",
    "scrolled": true
   },
   "outputs": [
    {
     "data": {
      "text/plain": [
       "'5'"
      ]
     },
     "execution_count": 66,
     "metadata": {},
     "output_type": "execute_result"
    }
   ],
   "source": [
    "b_str=str(b)\n",
    "b_str"
   ]
  },
  {
   "cell_type": "code",
   "execution_count": 67,
   "id": "423ea644",
   "metadata": {
    "id": "423ea644"
   },
   "outputs": [],
   "source": [
    "c=False # consider a boolean variable"
   ]
  },
  {
   "cell_type": "code",
   "execution_count": 68,
   "id": "d2f19935",
   "metadata": {
    "id": "d2f19935",
    "outputId": "6a515d9f-38bd-47b2-ce48-21c0195fff39"
   },
   "outputs": [
    {
     "data": {
      "text/plain": [
       "0"
      ]
     },
     "execution_count": 68,
     "metadata": {},
     "output_type": "execute_result"
    }
   ],
   "source": [
    "c_int=int(c)\n",
    "c_int"
   ]
  },
  {
   "cell_type": "code",
   "execution_count": 69,
   "id": "26b1d16e",
   "metadata": {
    "id": "26b1d16e",
    "outputId": "2e1abf4e-d337-4a55-f252-922115d32aae"
   },
   "outputs": [
    {
     "data": {
      "text/plain": [
       "0.0"
      ]
     },
     "execution_count": 69,
     "metadata": {},
     "output_type": "execute_result"
    }
   ],
   "source": [
    "c_float=float(c)\n",
    "c_float"
   ]
  },
  {
   "cell_type": "code",
   "execution_count": 70,
   "id": "1a52f466",
   "metadata": {
    "id": "1a52f466",
    "outputId": "ae0a1f3d-6485-4b83-921a-9c9e153cbc87"
   },
   "outputs": [
    {
     "data": {
      "text/plain": [
       "'False'"
      ]
     },
     "execution_count": 70,
     "metadata": {},
     "output_type": "execute_result"
    }
   ],
   "source": [
    "c_str=str(c)\n",
    "c_str"
   ]
  },
  {
   "cell_type": "code",
   "execution_count": null,
   "id": "d63dad07",
   "metadata": {
    "id": "d63dad07",
    "outputId": "047f3686-c0ea-424c-fdaa-a1d42268c8d2"
   },
   "outputs": [],
   "source": [
    "int(5.6)+float(6)+bool(23)\n"
   ]
  },
  {
   "cell_type": "code",
   "execution_count": null,
   "id": "06aee519",
   "metadata": {
    "id": "06aee519",
    "outputId": "d25165bc-5017-47eb-ab1d-6bda1c5f499a"
   },
   "outputs": [],
   "source": [
    "int(6.5)+1.2+int(5.5)+ bool(0)"
   ]
  },
  {
   "cell_type": "code",
   "execution_count": 71,
   "id": "a6708d62-43db-4766-aca4-9a4de7ee5235",
   "metadata": {},
   "outputs": [
    {
     "data": {
      "text/plain": [
       "'C:\\\\Users\\\\Lenovo\\\\akshatha\\\\PYTHON ESSE'"
      ]
     },
     "execution_count": 71,
     "metadata": {},
     "output_type": "execute_result"
    }
   ],
   "source": [
    "pwd"
   ]
  },
  {
   "cell_type": "code",
   "execution_count": null,
   "id": "7872f636-3555-4574-a54d-4cbad3f0ddf3",
   "metadata": {},
   "outputs": [],
   "source": []
  }
 ],
 "metadata": {
  "colab": {
   "provenance": []
  },
  "kernelspec": {
   "display_name": "Python [conda env:base] *",
   "language": "python",
   "name": "conda-base-py"
  },
  "language_info": {
   "codemirror_mode": {
    "name": "ipython",
    "version": 3
   },
   "file_extension": ".py",
   "mimetype": "text/x-python",
   "name": "python",
   "nbconvert_exporter": "python",
   "pygments_lexer": "ipython3",
   "version": "3.12.7"
  }
 },
 "nbformat": 4,
 "nbformat_minor": 5
}
